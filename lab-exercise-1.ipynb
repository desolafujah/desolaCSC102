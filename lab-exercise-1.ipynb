{
 "cells": [
  {
   "cell_type": "markdown",
   "metadata": {},
   "source": [
    "# Desola Fujah\n",
    "## 20120612106\n",
    "### desola.fujah@pau.edu.ng"
   ]
  },
  {
   "cell_type": "markdown",
   "metadata": {},
   "source": [
    "# Exercise 1\n",
    "#### Write a Python program to get the difference between a given number and 17, if the number is greater than 17 return double the absolute difference.\n",
    "![image.png](attachment:Picture5.png)"
   ]
  },
  {
   "cell_type": "code",
   "execution_count": 1,
   "metadata": {},
   "outputs": [
    {
     "name": "stdout",
     "output_type": "stream",
     "text": [
      "3\n"
     ]
    }
   ],
   "source": [
    "a = 14\n",
    "b = 17\n",
    "c = a - b\n",
    "if a > b:\n",
    "    print (c * 2)\n",
    "else:\n",
    "    print (abs(c))"
   ]
  },
  {
   "cell_type": "markdown",
   "metadata": {},
   "source": [
    "# Exercise 2\n",
    "#### Write a Python program to calculate the sum of three given numbers, if the values are equal then return thrice of their sum.\n",
    "![image.png](attachment:Picture4.png)"
   ]
  },
  {
   "cell_type": "code",
   "execution_count": 9,
   "metadata": {},
   "outputs": [
    {
     "name": "stdout",
     "output_type": "stream",
     "text": [
      "27\n"
     ]
    }
   ],
   "source": [
    "a = 3\n",
    "b = 3\n",
    "c = 3 \n",
    "if a == b == c:\n",
    "    print (a ** 3)\n",
    "else:\n",
    "    print (a + b + c)"
   ]
  },
  {
   "cell_type": "markdown",
   "metadata": {},
   "source": [
    "# Exercise 3\n",
    "#### Write a Python program which will return true of the two given integer values are equal or their sum or difference is 5\n",
    "![image.png](attachment:Picture3.png)"
   ]
  },
  {
   "cell_type": "code",
   "execution_count": 4,
   "metadata": {},
   "outputs": [
    {
     "name": "stdout",
     "output_type": "stream",
     "text": [
      "True\n"
     ]
    }
   ],
   "source": [
    "a = 7\n",
    "b = 2\n",
    "if a == b:\n",
    "        print (True)\n",
    "elif a + b == 5:\n",
    "        print (True) \n",
    "elif a - b == 5:\n",
    "        print (True) \n",
    "else:\n",
    "        print (False)\n",
    " \n"
   ]
  },
  {
   "cell_type": "markdown",
   "metadata": {},
   "source": [
    "# Exercise 4\n",
    "#### Write a Python program to sort three integers without using conditional statements and loops.\n",
    "![image.png](attachment:Picture2.png)"
   ]
  },
  {
   "cell_type": "code",
   "execution_count": 5,
   "metadata": {},
   "outputs": [
    {
     "name": "stdout",
     "output_type": "stream",
     "text": [
      "Maximum is 8\n",
      "Minimum is 3\n",
      "Middle is 7\n"
     ]
    }
   ],
   "source": [
    "a = 8\n",
    "b = 3\n",
    "c = 7\n",
    "lis1 = [8, 3, 7]\n",
    "maximum = max(lis1)\n",
    "\n",
    "minimum = min(lis1)\n",
    "\n",
    "middle = (a + b + c) - maximum - minimum\n",
    "\n",
    "\n",
    "print(\"Maximum is\", maximum)\n",
    "print (\"Minimum is\", minimum)\n",
    "print (\"Middle is\", middle)"
   ]
  },
  {
   "cell_type": "markdown",
   "metadata": {},
   "source": [
    "# Exercise 5\n",
    "#### Write a Python function that takes a positive integer and returns the sum of the cube of all the positive integers smaller than the specified number.\n",
    "![image.png](attachment:Picture1.png)"
   ]
  },
  {
   "cell_type": "code",
   "execution_count": 7,
   "metadata": {},
   "outputs": [
    {
     "name": "stdout",
     "output_type": "stream",
     "text": [
      "225\n"
     ]
    }
   ],
   "source": [
    "a = 6\n",
    "d=0\n",
    "for b in range(1,a):\n",
    "    c = b*b*b\n",
    "    d = d + c\n",
    "print(d)\n"
   ]
  },
  {
   "cell_type": "code",
   "execution_count": null,
   "metadata": {},
   "outputs": [],
   "source": []
  }
 ],
 "metadata": {
  "kernelspec": {
   "display_name": "Python 3",
   "language": "python",
   "name": "python3"
  },
  "language_info": {
   "codemirror_mode": {
    "name": "ipython",
    "version": 3
   },
   "file_extension": ".py",
   "mimetype": "text/x-python",
   "name": "python",
   "nbconvert_exporter": "python",
   "pygments_lexer": "ipython3",
   "version": "3.8.5"
  }
 },
 "nbformat": 4,
 "nbformat_minor": 4
}
